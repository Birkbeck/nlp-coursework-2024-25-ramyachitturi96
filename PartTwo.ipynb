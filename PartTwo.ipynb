{
 "cells": [
  {
   "cell_type": "code",
   "execution_count": null,
   "id": "be096ff5",
   "metadata": {},
   "outputs": [],
   "source": [
    "import pandas as pd\n",
    "import csv"
   ]
  },
  {
   "cell_type": "code",
   "execution_count": 61,
   "id": "b579b9cd",
   "metadata": {},
   "outputs": [],
   "source": [
    "def read_and_clean_file(path):\n",
    "    df = pd.read_csv(path)\n",
    "\n",
    "    # rename the ‘Labour (Co-op)’ value in ‘party’ column to ‘Labour’\n",
    "    df[\"party\"] = df[\"party\"].replace(\"Labour (Co-op)\", \"Labour\")\n",
    "    #print(df.shape)\n",
    "\n",
    "    # remove any rows where the value of the ‘party’ column is not one of the four most common party names, and remove the ‘Speaker’ value\n",
    "    df = df[df[\"party\"] != \"Speaker\"]\n",
    "    top4_parties = df[\"party\"].value_counts().index[:4]\n",
    "    df = df[df[\"party\"].isin(top4_parties)]\n",
    "    #print(df.shape)\n",
    "\n",
    "    # remove any rows where the value in the ‘speech_class’ column is not ‘Speech’\n",
    "    df = df[df[\"speech_class\"] != \"Speaker\"]\n",
    "    #print(df.shape)\n",
    "\n",
    "    #remove any rows where the text in the ‘speech’ column is less than 1000 characters long.\n",
    "    df = df[df[\"speech\"].str.len() >= 1000]\n",
    "    #print(df.shape)\n",
    "\n",
    "    return df\n",
    "\n"
   ]
  },
  {
   "cell_type": "code",
   "execution_count": 63,
   "id": "acbe1f6e",
   "metadata": {},
   "outputs": [
    {
     "data": {
      "text/plain": [
       "party\n",
       "Conservative               4819\n",
       "Labour                     2317\n",
       "Scottish National Party     679\n",
       "Liberal Democrat            269\n",
       "Name: count, dtype: int64"
      ]
     },
     "execution_count": 63,
     "metadata": {},
     "output_type": "execute_result"
    }
   ],
   "source": [
    "df = read_and_clean_file(\"p2-texts/hansard40000.csv\")\n",
    "df[\"party\"].value_counts()"
   ]
  },
  {
   "cell_type": "code",
   "execution_count": 64,
   "id": "5d0bac56",
   "metadata": {},
   "outputs": [
    {
     "data": {
      "text/plain": [
       "(8084, 8)"
      ]
     },
     "execution_count": 64,
     "metadata": {},
     "output_type": "execute_result"
    }
   ],
   "source": [
    "#2a\n",
    "df.shape"
   ]
  },
  {
   "cell_type": "code",
   "execution_count": null,
   "id": "8d8b8595",
   "metadata": {},
   "outputs": [],
   "source": [
    "from sklearn.feature_extraction.text import TfidfVectorizer\n",
    "from sklearn.model_selection import train_test_split"
   ]
  },
  {
   "cell_type": "code",
   "execution_count": 65,
   "id": "2de4c239",
   "metadata": {},
   "outputs": [],
   "source": [
    "def Tfidfvectorizer_split_data(df, ngram: str):\n",
    "    X = df[\"speech\"]\n",
    "    y = df[\"party\"]\n",
    "    if ngram == \"tri-gram\":\n",
    "        vectorizer = TfidfVectorizer(stop_words = \"english\", max_features = 3000, ngram_range=(1,3))\n",
    "    else :\n",
    "        vectorizer = TfidfVectorizer(stop_words = \"english\", max_features = 3000)\n",
    "    X_vector = vectorizer.fit_transform(X)\n",
    "    X_train, X_test, y_train, y_test = train_test_split(X_vector, y, test_size=0.2, stratify=y, random_state=26)\n",
    "    return X_train, X_test, y_train, y_test"
   ]
  },
  {
   "cell_type": "code",
   "execution_count": 66,
   "id": "0231e389",
   "metadata": {},
   "outputs": [
    {
     "name": "stdout",
     "output_type": "stream",
     "text": [
      "X Train set shape: (6467, 3000)\n",
      "X Test set shape: (1617, 3000)\n",
      "Y Train set shape: (6467,)\n",
      "Y Test set shape: (1617,)\n"
     ]
    }
   ],
   "source": [
    "#2b\n",
    "X_train, X_test, Y_train, Y_test = Tfidfvectorizer_split_data(df, \"default\")\n",
    "print(\"X Train set shape:\", X_train.shape)\n",
    "print(\"X Test set shape:\", X_test.shape)\n",
    "print(\"Y Train set shape:\", Y_train.shape)\n",
    "print(\"Y Test set shape:\", Y_test.shape)"
   ]
  },
  {
   "cell_type": "code",
   "execution_count": 58,
   "id": "3d0db6a5",
   "metadata": {},
   "outputs": [],
   "source": [
    "from sklearn.ensemble import RandomForestClassifier\n",
    "from sklearn.svm import SVC\n",
    "from sklearn.metrics import f1_score, classification_report "
   ]
  },
  {
   "cell_type": "code",
   "execution_count": 67,
   "id": "f93e8ff9",
   "metadata": {},
   "outputs": [],
   "source": [
    "def Random_Forest_and_SVM(X_train, X_test, y_train, y_test):\n",
    "    results = {}\n",
    "    #models\n",
    "    random_forest = RandomForestClassifier(n_estimators=300, random_state=26)\n",
    "    svm = SVC(kernel='linear', random_state=26)\n",
    "\n",
    "    #Training models\n",
    "    print(\"Training Random Forest model\")\n",
    "    random_forest.fit(X_train, y_train)\n",
    "    print(\"Training SVM model\")\n",
    "    svm.fit(X_train, y_train)\n",
    "\n",
    "    #predictions\n",
    "    random_forest_pred = random_forest.predict(X_test)\n",
    "    svm_pred = svm.predict(X_test)\n",
    "\n",
    "    #macro-average f1 score\n",
    "    random_forest_f1 = f1_score(y_test, random_forest_pred, average='macro')\n",
    "    results[\"Random Forest\"] = random_forest_f1\n",
    "    svm_f1 = f1_score(y_test, svm_pred, average='macro')\n",
    "    results[\"SVM\"] = svm_f1\n",
    "\n",
    "    #classification report \n",
    "    random_forest_report = classification_report(y_test, random_forest_pred)\n",
    "    svm_report = classification_report(y_test, svm_pred)\n",
    "\n",
    "    print(\"Random Forest Model\")\n",
    "    print(f\"Macro-average f1 score: {random_forest_f1}\")\n",
    "    print(\"Classification Report:\")\n",
    "    print(random_forest_report)\n",
    "\n",
    "    print(\"\\n\")\n",
    "    print(\"SVM Model\")\n",
    "    print(f\"Macro-average f1 score: {svm_f1}\")\n",
    "    print(\"Classification Report:\")\n",
    "    print(svm_report)\n",
    "\n",
    "    return results"
   ]
  },
  {
   "cell_type": "code",
   "execution_count": 68,
   "id": "afd26466",
   "metadata": {},
   "outputs": [
    {
     "name": "stdout",
     "output_type": "stream",
     "text": [
      "Training Random Forest model\n",
      "Training SVM model\n",
      "Random Forest Model\n",
      "Macro-average f1 score: 0.45469001950616234\n",
      "Classification Report:\n",
      "                         precision    recall  f1-score   support\n",
      "\n",
      "           Conservative       0.72      0.98      0.83       964\n",
      "                 Labour       0.75      0.44      0.56       463\n",
      "       Liberal Democrat       0.00      0.00      0.00        54\n",
      "Scottish National Party       0.87      0.29      0.43       136\n",
      "\n",
      "               accuracy                           0.73      1617\n",
      "              macro avg       0.59      0.43      0.45      1617\n",
      "           weighted avg       0.72      0.73      0.69      1617\n",
      "\n",
      "\n",
      "\n",
      "SVM Model\n",
      "Macro-average f1 score: 0.5933446121140653\n",
      "Classification Report:\n",
      "                         precision    recall  f1-score   support\n",
      "\n",
      "           Conservative       0.83      0.92      0.87       964\n",
      "                 Labour       0.74      0.71      0.72       463\n",
      "       Liberal Democrat       1.00      0.07      0.14        54\n",
      "Scottish National Party       0.78      0.54      0.64       136\n",
      "\n",
      "               accuracy                           0.80      1617\n",
      "              macro avg       0.84      0.56      0.59      1617\n",
      "           weighted avg       0.81      0.80      0.79      1617\n",
      "\n"
     ]
    },
    {
     "name": "stderr",
     "output_type": "stream",
     "text": [
      "C:\\Users\\ramya\\AppData\\Local\\Packages\\PythonSoftwareFoundation.Python.3.12_qbz5n2kfra8p0\\LocalCache\\local-packages\\Python312\\site-packages\\sklearn\\metrics\\_classification.py:1565: UndefinedMetricWarning: Precision is ill-defined and being set to 0.0 in labels with no predicted samples. Use `zero_division` parameter to control this behavior.\n",
      "  _warn_prf(average, modifier, f\"{metric.capitalize()} is\", len(result))\n",
      "C:\\Users\\ramya\\AppData\\Local\\Packages\\PythonSoftwareFoundation.Python.3.12_qbz5n2kfra8p0\\LocalCache\\local-packages\\Python312\\site-packages\\sklearn\\metrics\\_classification.py:1565: UndefinedMetricWarning: Precision is ill-defined and being set to 0.0 in labels with no predicted samples. Use `zero_division` parameter to control this behavior.\n",
      "  _warn_prf(average, modifier, f\"{metric.capitalize()} is\", len(result))\n",
      "C:\\Users\\ramya\\AppData\\Local\\Packages\\PythonSoftwareFoundation.Python.3.12_qbz5n2kfra8p0\\LocalCache\\local-packages\\Python312\\site-packages\\sklearn\\metrics\\_classification.py:1565: UndefinedMetricWarning: Precision is ill-defined and being set to 0.0 in labels with no predicted samples. Use `zero_division` parameter to control this behavior.\n",
      "  _warn_prf(average, modifier, f\"{metric.capitalize()} is\", len(result))\n"
     ]
    },
    {
     "data": {
      "text/plain": [
       "{'Random Forest': 0.45469001950616234, 'SVM': 0.5933446121140653}"
      ]
     },
     "execution_count": 68,
     "metadata": {},
     "output_type": "execute_result"
    }
   ],
   "source": [
    "#2c\n",
    "Random_Forest_and_SVM(X_train, X_test, Y_train, Y_test)"
   ]
  },
  {
   "cell_type": "code",
   "execution_count": 54,
   "id": "a32639ca",
   "metadata": {},
   "outputs": [
    {
     "name": "stdout",
     "output_type": "stream",
     "text": [
      "Training Random Forest model\n",
      "Training SVM model\n",
      "Random Forest Model\n",
      "Macro-average f1 score: 0.6748975043716996\n",
      "Classification Report:\n",
      "                         precision    recall  f1-score   support\n",
      "\n",
      "           Conservative       0.76      0.97      0.85       964\n",
      "                 Labour       0.80      0.49      0.61       463\n",
      "Scottish National Party       0.95      0.40      0.57       136\n",
      "\n",
      "               accuracy                           0.78      1563\n",
      "              macro avg       0.84      0.62      0.67      1563\n",
      "           weighted avg       0.79      0.78      0.75      1563\n",
      "\n",
      "\n",
      "\n",
      "SVM Model\n",
      "Macro-average f1 score: 0.7955796360349998\n",
      "Classification Report:\n",
      "                         precision    recall  f1-score   support\n",
      "\n",
      "           Conservative       0.86      0.92      0.89       964\n",
      "                 Labour       0.79      0.73      0.76       463\n",
      "Scottish National Party       0.84      0.65      0.74       136\n",
      "\n",
      "               accuracy                           0.84      1563\n",
      "              macro avg       0.83      0.77      0.80      1563\n",
      "           weighted avg       0.84      0.84      0.84      1563\n",
      "\n"
     ]
    },
    {
     "data": {
      "text/plain": [
       "{'Random Forest': 0.6748975043716996, 'SVM': 0.7955796360349998}"
      ]
     },
     "execution_count": 54,
     "metadata": {},
     "output_type": "execute_result"
    }
   ],
   "source": [
    "#2d\n",
    "X_train, X_test, Y_train, Y_test = Tfidfvectorizer_split_data(df, \"tri-gram\")\n",
    "Random_Forest_and_SVM(X_train, X_test, Y_train, Y_test)"
   ]
  }
 ],
 "metadata": {
  "kernelspec": {
   "display_name": "Python 3",
   "language": "python",
   "name": "python3"
  },
  "language_info": {
   "codemirror_mode": {
    "name": "ipython",
    "version": 3
   },
   "file_extension": ".py",
   "mimetype": "text/x-python",
   "name": "python",
   "nbconvert_exporter": "python",
   "pygments_lexer": "ipython3",
   "version": "3.12.10"
  }
 },
 "nbformat": 4,
 "nbformat_minor": 5
}
