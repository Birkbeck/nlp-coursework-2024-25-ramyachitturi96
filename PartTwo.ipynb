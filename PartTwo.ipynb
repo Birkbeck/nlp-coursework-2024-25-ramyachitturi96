{
 "cells": [
  {
   "cell_type": "code",
   "execution_count": null,
   "id": "be096ff5",
   "metadata": {},
   "outputs": [],
   "source": [
    "import pandas as pd\n",
    "import csv"
   ]
  },
  {
   "cell_type": "code",
   "execution_count": 15,
   "id": "b579b9cd",
   "metadata": {},
   "outputs": [],
   "source": [
    "def read_and_clean_file(path):\n",
    "    df = pd.read_csv(path)\n",
    "\n",
    "    # rename the ‘Labour (Co-op)’ value in ‘party’ column to ‘Labour’\n",
    "    df[\"party\"] = df[\"party\"].replace(\"Labour (Co-op)\", \"‘Labour’\")\n",
    "    #print(df.shape)\n",
    "\n",
    "    # remove any rows where the value of the ‘party’ column is not one of the four most common party names, and remove the ‘Speaker’ value\n",
    "    top4_parties = df[\"party\"].value_counts().index[:4]\n",
    "    df = df[df[\"party\"].isin(top4_parties) & (df[\"party\"] != \"Speaker\")]\n",
    "    #print(df.shape)\n",
    "\n",
    "    # remove any rows where the value in the ‘speech_class’ column is not ‘Speech’\n",
    "    df = df[df[\"speech_class\"] != \"Speaker\"]\n",
    "    #print(df.shape)\n",
    "\n",
    "    #remove any rows where the text in the ‘speech’ column is less than 1000 characters long.\n",
    "    df = df[df[\"speech\"].str.len() >= 1000]\n",
    "    #print(df.shape)\n",
    "\n",
    "    print(df)\n",
    "\n",
    "    return df.shape\n",
    "\n"
   ]
  },
  {
   "cell_type": "code",
   "execution_count": 16,
   "id": "acbe1f6e",
   "metadata": {},
   "outputs": [
    {
     "name": "stdout",
     "output_type": "stream",
     "text": [
      "                                                  speech  \\\n",
      "63     It has been less than two weeks since the Gove...   \n",
      "99     I am delighted to announce that last Friday we...   \n",
      "100    I thank the Secretary of State for advance sig...   \n",
      "101    After the right hon. Lady’s congratulations to...   \n",
      "104    I congratulate the Secretary of State. I recog...   \n",
      "...                                                  ...   \n",
      "39831  I rise to present a petition on behalf of the ...   \n",
      "39834  Thank you, Mr Deputy Speaker, and I am very gr...   \n",
      "39835  I congratulate my hon. Friend the Member for S...   \n",
      "39837  The hon. Gentleman makes an important, twofold...   \n",
      "39869  Recent research by the Campaign to Protect Rur...   \n",
      "\n",
      "                         party                  constituency        date  \\\n",
      "63                Conservative               Suffolk Coastal  2020-09-14   \n",
      "99                Conservative            South West Norfolk  2020-09-14   \n",
      "100                     Labour  Islington South and Finsbury  2020-09-14   \n",
      "101               Conservative            South West Norfolk  2020-09-14   \n",
      "104    Scottish National Party                   Dundee East  2020-09-14   \n",
      "...                        ...                           ...         ...   \n",
      "39831             Conservative                 Rother Valley  2021-04-28   \n",
      "39834             Conservative       South West Bedfordshire  2021-04-28   \n",
      "39835             Conservative              Sutton and Cheam  2021-04-28   \n",
      "39837             Conservative              Sutton and Cheam  2021-04-28   \n",
      "39869                   Labour                  Ilford South  2021-04-29   \n",
      "\n",
      "      speech_class                      major_heading  year  \\\n",
      "63          Speech                  Work and Pensions  2020   \n",
      "99          Speech         Japan Free Trade Agreement  2020   \n",
      "100         Speech         Japan Free Trade Agreement  2020   \n",
      "101         Speech         Japan Free Trade Agreement  2020   \n",
      "104         Speech         Japan Free Trade Agreement  2020   \n",
      "...            ...                                ...   ...   \n",
      "39831       Speech       Petition - Levelling Up Fund  2021   \n",
      "39834       Speech  National Minimum Wage Enforcement  2021   \n",
      "39835       Speech  National Minimum Wage Enforcement  2021   \n",
      "39837       Speech  National Minimum Wage Enforcement  2021   \n",
      "39869       Speech                          Transport  2021   \n",
      "\n",
      "              speakername  \n",
      "63         Therese Coffey  \n",
      "99        Elizabeth Truss  \n",
      "100      Emily Thornberry  \n",
      "101       Elizabeth Truss  \n",
      "104         Stewart Hosie  \n",
      "...                   ...  \n",
      "39831  Alexander Stafford  \n",
      "39834       Andrew Selous  \n",
      "39835         Paul Scully  \n",
      "39837         Paul Scully  \n",
      "39869           Sam Tarry  \n",
      "\n",
      "[7815 rows x 8 columns]\n"
     ]
    },
    {
     "data": {
      "text/plain": [
       "(7815, 8)"
      ]
     },
     "execution_count": 16,
     "metadata": {},
     "output_type": "execute_result"
    }
   ],
   "source": [
    "read_and_clean_file(\"p2-texts/hansard40000.csv\")"
   ]
  }
 ],
 "metadata": {
  "kernelspec": {
   "display_name": "Python 3",
   "language": "python",
   "name": "python3"
  },
  "language_info": {
   "codemirror_mode": {
    "name": "ipython",
    "version": 3
   },
   "file_extension": ".py",
   "mimetype": "text/x-python",
   "name": "python",
   "nbconvert_exporter": "python",
   "pygments_lexer": "ipython3",
   "version": "3.12.10"
  }
 },
 "nbformat": 4,
 "nbformat_minor": 5
}
